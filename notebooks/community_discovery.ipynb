{
 "cells": [
  {
   "cell_type": "code",
   "execution_count": 2,
   "metadata": {},
   "outputs": [],
   "source": [
    "# Relevant imports\n",
    "import demon as d\n",
    "import numpy as np\n",
    "import networkx as nx\n",
    "import community as cl\n",
    "import matplotlib.pyplot as plt\n",
    "\n",
    "from networkx.readwrite.gexf import read_gexf\n",
    "from networkx.algorithms.community import k_clique_communities"
   ]
  },
  {
   "cell_type": "code",
   "execution_count": 3,
   "metadata": {},
   "outputs": [],
   "source": [
    "# Reading and drawing the stock network:\n",
    "G = read_gexf('stock_network.gexf')"
   ]
  },
  {
   "cell_type": "code",
   "execution_count": null,
   "metadata": {},
   "outputs": [],
   "source": [
    "# a) Finding cliques using K-clique algorithm (setting minimum clique size to 20):\n",
    "cliques_a = k_clique_communities(G, 20)\n",
    "cliques_a = list(cliques_a)"
   ]
  },
  {
   "cell_type": "code",
   "execution_count": 5,
   "metadata": {},
   "outputs": [
    {
     "name": "stderr",
     "output_type": "stream",
     "text": [
      "Exec: 100%|████████████████████████"
     ]
    },
    {
     "name": "stdout",
     "output_type": "stream",
     "text": [
      "Time:  'execute' 2227.40 sec\n",
      "------------------------------------\n"
     ]
    },
    {
     "name": "stderr",
     "output_type": "stream",
     "text": [
      "\n"
     ]
    }
   ],
   "source": [
    "# b) Finding cliques using DEMON algorithm:\n",
    "dm = d.Demon(graph=G, epsilon=0.25, min_community_size=20)\n",
    "cliques_b = dm.execute()"
   ]
  },
  {
   "cell_type": "code",
   "execution_count": 6,
   "metadata": {},
   "outputs": [],
   "source": [
    "# d) Finding cliques using Louvain method:\n",
    "cliques_d = cl.best_partition(G)"
   ]
  },
  {
   "cell_type": "code",
   "execution_count": 16,
   "metadata": {},
   "outputs": [
    {
     "name": "stdout",
     "output_type": "stream",
     "text": [
      "11\n",
      "175\n"
     ]
    }
   ],
   "source": [
    "# Printing the results:\n",
    "print len(cliques_b)\n",
    "print max(cliques_d.values())"
   ]
  },
  {
   "cell_type": "code",
   "execution_count": null,
   "metadata": {},
   "outputs": [],
   "source": []
  }
 ],
 "metadata": {
  "kernelspec": {
   "display_name": "Python 2",
   "language": "python",
   "name": "python2"
  },
  "language_info": {
   "codemirror_mode": {
    "name": "ipython",
    "version": 2
   },
   "file_extension": ".py",
   "mimetype": "text/x-python",
   "name": "python",
   "nbconvert_exporter": "python",
   "pygments_lexer": "ipython2",
   "version": "2.7.18"
  }
 },
 "nbformat": 4,
 "nbformat_minor": 2
}
