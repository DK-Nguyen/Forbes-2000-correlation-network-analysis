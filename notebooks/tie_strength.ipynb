{
 "cells": [
  {
   "cell_type": "code",
   "execution_count": 1,
   "metadata": {},
   "outputs": [],
   "source": [
    "# Relevant imports\n",
    "import numpy as np\n",
    "import networkx as nx\n",
    "import matplotlib.pyplot as plt\n",
    "\n",
    "from networkx.readwrite.gexf import read_gexf"
   ]
  },
  {
   "cell_type": "code",
   "execution_count": 2,
   "metadata": {},
   "outputs": [],
   "source": [
    "# Reading and drawing the stock network:\n",
    "G = read_gexf('stock_network.gexf')"
   ]
  },
  {
   "cell_type": "code",
   "execution_count": 7,
   "metadata": {},
   "outputs": [],
   "source": [
    "# Computing Jaccard coefficients for the node pairs:\n",
    "J = nx.jaccard_coefficient(G)\n",
    "J = list(J)"
   ]
  },
  {
   "cell_type": "code",
   "execution_count": 13,
   "metadata": {},
   "outputs": [],
   "source": [
    "# Sort links based on the magnitude of Jaccard coefficient:\n",
    "J.sort(key=lambda link: link[2], reverse=True)"
   ]
  },
  {
   "cell_type": "code",
   "execution_count": 18,
   "metadata": {},
   "outputs": [
    {
     "name": "stdout",
     "output_type": "stream",
     "text": [
      "Top 25 Jaccard Coefficient Links:\n",
      "ANTARCHILE.SN <-> BCI.SN: 1.000000\n",
      "ITSA4.SA <-> elet6.sa: 1.000000\n",
      "0019.HK <-> BPSO.MI: 1.000000\n",
      "RRTL.DE <-> BARC.L: 1.000000\n",
      "3377.HK <-> 0386.HK: 1.000000\n",
      "SAP <-> MRAAY: 0.712088\n",
      "DLR <-> AKAM: 0.707022\n",
      "CTXS <-> frcoy: 0.701923\n",
      "AKAM <-> JBL: 0.701847\n",
      "DLR <-> omrny: 0.694118\n",
      "2010.SR <-> 1010.SR: 0.692308\n",
      "1010.SR <-> 5110.SR: 0.692308\n",
      "MAA <-> omrny: 0.673660\n",
      "3328.hk <-> 1766.HK: 0.666667\n",
      "2888.TW <-> 6505.TW: 0.666667\n",
      "1605.T <-> 5406.T: 0.666667\n",
      "FNV <-> frcoy: 0.665012\n",
      "XEL <-> SIVB: 0.660819\n",
      "ENEL.MI <-> LTG.L: 0.655385\n",
      "WEC <-> URI: 0.654150\n",
      "2914.T <-> 8366.T: 0.653846\n",
      "INFY <-> FMC: 0.653846\n",
      "SWKS <-> RS: 0.651885\n",
      "1878.T <-> 8058.T: 0.650000\n",
      "SFTBY <-> NCBDF: 0.648649\n"
     ]
    }
   ],
   "source": [
    "# Print Top 25 Jaccard coefficient links:\n",
    "print \"Top 25 Jaccard Coefficient Links:\"\n",
    "for i in range(25):\n",
    "    print \"%s <-> %s: %f\" % (J[i][0], J[i][1], J[i][2])"
   ]
  },
  {
   "cell_type": "code",
   "execution_count": null,
   "metadata": {},
   "outputs": [],
   "source": []
  }
 ],
 "metadata": {
  "kernelspec": {
   "display_name": "Python 2",
   "language": "python",
   "name": "python2"
  },
  "language_info": {
   "codemirror_mode": {
    "name": "ipython",
    "version": 2
   },
   "file_extension": ".py",
   "mimetype": "text/x-python",
   "name": "python",
   "nbconvert_exporter": "python",
   "pygments_lexer": "ipython2",
   "version": "2.7.18"
  }
 },
 "nbformat": 4,
 "nbformat_minor": 2
}
