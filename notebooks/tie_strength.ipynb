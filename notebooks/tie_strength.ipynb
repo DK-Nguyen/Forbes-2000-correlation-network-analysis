{
 "cells": [
  {
   "cell_type": "code",
   "execution_count": 82,
   "metadata": {},
   "outputs": [],
   "source": [
    "# Relevant imports\n",
    "import numpy as np\n",
    "import networkx as nx\n",
    "import matplotlib.pyplot as plt\n",
    "\n",
    "from tqdm import tqdm\n",
    "from copy import deepcopy\n",
    "from networkx.readwrite.gexf import read_gexf\n",
    "from networkx.algorithms.cluster import average_clustering"
   ]
  },
  {
   "cell_type": "code",
   "execution_count": 40,
   "metadata": {},
   "outputs": [],
   "source": [
    "# Reading and drawing the stock network:\n",
    "G = read_gexf('stock_network.gexf')"
   ]
  },
  {
   "cell_type": "code",
   "execution_count": 21,
   "metadata": {},
   "outputs": [],
   "source": [
    "# Computing Jaccard coefficients for the existing node pairs to find strong ties:\n",
    "J_strong = nx.jaccard_coefficient(G, ebunch=G.edges())\n",
    "J_strong = list(J_strong)"
   ]
  },
  {
   "cell_type": "code",
   "execution_count": 22,
   "metadata": {},
   "outputs": [],
   "source": [
    "# Computing Jaccard coefficients for the non-existing node pairs to find weak ties:\n",
    "J_weak = nx.jaccard_coefficient(G)\n",
    "J_weak = list(J_weak)"
   ]
  },
  {
   "cell_type": "code",
   "execution_count": 23,
   "metadata": {},
   "outputs": [],
   "source": [
    "# Sort links based on the magnitude of Jaccard coefficient:\n",
    "J_strong.sort(key=lambda link: link[2], reverse=True)\n",
    "J_weak.sort(key=lambda link: link[2], reverse=True)"
   ]
  },
  {
   "cell_type": "code",
   "execution_count": 41,
   "metadata": {},
   "outputs": [
    {
     "name": "stdout",
     "output_type": "stream",
     "text": [
      "Top 25 Strong Ties:\n",
      "COST <-> VRSK: 0.972603\n",
      "IDXX <-> ADSK: 0.964981\n",
      "CDNS <-> SNPS: 0.963983\n",
      "FIS <-> AON: 0.963702\n",
      "WM <-> RSG: 0.960967\n",
      "COO <-> AON: 0.956600\n",
      "GOOG <-> ACN: 0.953237\n",
      "KYCCF <-> MTD: 0.952381\n",
      "CSGP <-> MSFT: 0.950980\n",
      "BR <-> UNH: 0.950963\n",
      "AMZN <-> ADBE: 0.950884\n",
      "IHI <-> ACN: 0.950089\n",
      "ANSS <-> MSFT: 0.948413\n",
      "CPRT <-> CSGP: 0.946955\n",
      "ANSS <-> CSGP: 0.946746\n",
      "ICE <-> AON: 0.946619\n",
      "TT <-> %5EIXIC: 0.946097\n",
      "odfl <-> ADSK: 0.945841\n",
      "WEC <-> XEL: 0.944690\n",
      "RMD <-> CSGP: 0.943689\n",
      "IHI <-> shw: 0.943662\n",
      "LZAGY <-> odfl: 0.943249\n",
      "PAYC <-> TEAM: 0.943231\n",
      "CDNS <-> Now: 0.943158\n",
      "SPGI <-> CTAS: 0.942959\n"
     ]
    }
   ],
   "source": [
    "# Print Top 25 (in terms of Jaccard coefficient) strong ties:\n",
    "print \"Top 25 Strong Ties:\"\n",
    "for i in range(25):\n",
    "    print \"%s <-> %s: %f\" % (J_strong[i][0], J_strong[i][1], J_strong[i][2])"
   ]
  },
  {
   "cell_type": "code",
   "execution_count": 42,
   "metadata": {},
   "outputs": [
    {
     "name": "stdout",
     "output_type": "stream",
     "text": [
      "Top 25 Weak Ties:\n",
      "ANTARCHILE.SN <-> BCI.SN: 1.000000\n",
      "ITSA4.SA <-> elet6.sa: 1.000000\n",
      "0019.HK <-> BPSO.MI: 1.000000\n",
      "RRTL.DE <-> BARC.L: 1.000000\n",
      "3377.HK <-> 0386.HK: 1.000000\n",
      "SAP <-> MRAAY: 0.712088\n",
      "DLR <-> AKAM: 0.707022\n",
      "CTXS <-> frcoy: 0.701923\n",
      "AKAM <-> JBL: 0.701847\n",
      "DLR <-> omrny: 0.694118\n",
      "2010.SR <-> 1010.SR: 0.692308\n",
      "1010.SR <-> 5110.SR: 0.692308\n",
      "MAA <-> omrny: 0.673660\n",
      "3328.hk <-> 1766.HK: 0.666667\n",
      "2888.TW <-> 6505.TW: 0.666667\n",
      "1605.T <-> 5406.T: 0.666667\n",
      "FNV <-> frcoy: 0.665012\n",
      "XEL <-> SIVB: 0.660819\n",
      "ENEL.MI <-> LTG.L: 0.655385\n",
      "WEC <-> URI: 0.654150\n",
      "2914.T <-> 8366.T: 0.653846\n",
      "INFY <-> FMC: 0.653846\n",
      "SWKS <-> RS: 0.651885\n",
      "1878.T <-> 8058.T: 0.650000\n",
      "SFTBY <-> NCBDF: 0.648649\n"
     ]
    }
   ],
   "source": [
    "# Print Top 25 (in terms of Jaccard coefficient) weak ties:\n",
    "print \"Top 25 Weak Ties:\"\n",
    "for i in range(25):\n",
    "    print \"%s <-> %s: %f\" % (J_weak[i][0], J_weak[i][1], J_weak[i][2])"
   ]
  },
  {
   "cell_type": "code",
   "execution_count": 90,
   "metadata": {},
   "outputs": [],
   "source": [
    "# Making copies of G for use below:\n",
    "G_strong = deepcopy(G)\n",
    "G_weak = deepcopy(G)"
   ]
  },
  {
   "cell_type": "code",
   "execution_count": 83,
   "metadata": {},
   "outputs": [
    {
     "name": "stderr",
     "output_type": "stream",
     "text": [
      "100%|██████████| 139561/139561 [26:41<00:00, 87.12it/s]  \n"
     ]
    }
   ],
   "source": [
    "# First we investigate network robustness when removing the strong ties from the graph\n",
    "# by removing the links in order of decreasing Jackard coefficient and computing the \n",
    "# probability of the random node being in a giant component:\n",
    "L_init = G_strong.number_of_edges()\n",
    "G_giant = max(nx.connected_component_subgraphs(G_strong), key=len)\n",
    "P_inf_0 = G_giant.number_of_nodes() / float(G_strong.number_of_nodes())\n",
    "clust_init = average_clustering(G_strong)\n",
    "\n",
    "f_hist_str = [0]\n",
    "P_hist_str = [1]\n",
    "clust_hist_str = [clust_init]\n",
    "\n",
    "for i in tqdm(range(L_init)):\n",
    "    G_strong.remove_edge(J_strong[i][0], J_strong[i][1])\n",
    "    \n",
    "    if i % 1000 == 0:\n",
    "        f = 1 - G_strong.number_of_edges() / float(L_init)\n",
    "        G_giant = max(nx.connected_component_subgraphs(G_strong), key=len)\n",
    "        P_inf = G_giant.number_of_nodes() / float(G_strong.number_of_nodes())\n",
    "        clust = average_clustering(G_strong)\n",
    "        f_hist_str.append(f)\n",
    "        P_hist_str.append(P_inf / P_inf_0)\n",
    "        clust_hist_str.append(clust)"
   ]
  },
  {
   "cell_type": "code",
   "execution_count": 91,
   "metadata": {},
   "outputs": [
    {
     "name": "stderr",
     "output_type": "stream",
     "text": [
      " 20%|█▉        | 351564/1770474 [01:29<06:01, 3922.63it/s] \n"
     ]
    }
   ],
   "source": [
    "# Second we investigate network robustness when removing the weak ties from the graph\n",
    "# by removing the nodes in order of decreasing Jackard coefficient and computing the \n",
    "# probability of the random node being in a giant component:\n",
    "L_init = G_weak.number_of_edges()\n",
    "G_giant = max(nx.connected_component_subgraphs(G_strong), key=len)\n",
    "P_inf_0 = G_giant.number_of_nodes() / float(G_weak.number_of_nodes())\n",
    "clust_init = average_clustering(G_weak)\n",
    "\n",
    "f_hist_weak = [0]\n",
    "P_hist_weak = [1]\n",
    "clust_hist_weak = [clust_init]\n",
    "removed_nodes = []\n",
    "\n",
    "for i in tqdm(range(len(J_weak))):\n",
    "    if J_weak[i][0] not in removed_nodes:\n",
    "        G_weak.remove_node(J_weak[i][0])\n",
    "        removed_nodes.append(J_weak[i][0])\n",
    "        \n",
    "    if J_weak[i][1] not in removed_nodes:\n",
    "        G_weak.remove_node(J_weak[i][1])\n",
    "        removed_nodes.append(J_weak[i][1])\n",
    "        \n",
    "    if G_weak.number_of_nodes() == 0:\n",
    "        break\n",
    "        \n",
    "    if i % 1000 == 0:\n",
    "        f = 1 - G_weak.number_of_edges() / float(L_init)\n",
    "        G_giant = max(nx.connected_component_subgraphs(G_weak), key=len)\n",
    "        P_inf = G_giant.number_of_nodes() / float(G_weak.number_of_nodes())\n",
    "        clust = average_clustering(G_weak)\n",
    "        f_hist_weak.append(f)\n",
    "        P_hist_weak.append(P_inf / P_inf_0)\n",
    "        clust_hist_weak.append(clust)"
   ]
  },
  {
   "cell_type": "code",
   "execution_count": 93,
   "metadata": {},
   "outputs": [
    {
     "data": {
      "image/png": "[encoded data removed]",
      "text/plain": [
       "<Figure size 432x288 with 1 Axes>"
      ]
     },
     "metadata": {
      "needs_background": "light"
     },
     "output_type": "display_data"
    },
    {
     "data": {
      "image/png": "[encoded data removed]",
      "text/plain": [
       "<Figure size 432x288 with 1 Axes>"
      ]
     },
     "metadata": {
      "needs_background": "light"
     },
     "output_type": "display_data"
    }
   ],
   "source": [
    "# Then we plot the results:\n",
    "plt.plot(f_hist_str, P_hist_str, \"k\", label=\"Strong Ties\")\n",
    "plt.plot(f_hist_weak, P_hist_weak, \"r\", label=\"Weak Ties\")\n",
    "plt.title(\"Size of the Giant Component\")\n",
    "plt.xlabel(\"$f$\")\n",
    "plt.ylabel(\"$P_\\infty(f)/P_\\infty(0)$\")\n",
    "plt.legend()\n",
    "plt.show()\n",
    "\n",
    "plt.plot(f_hist_str, clust_hist_str, \"k\", label=\"Strong Ties\")\n",
    "plt.plot(f_hist_weak, clust_hist_weak, \"r\", label=\"Weak Ties\")\n",
    "plt.title(\"Average Clustering Coefficient\")\n",
    "plt.xlabel(\"$f$\")\n",
    "plt.ylabel(\"$<C>$\")\n",
    "plt.legend()\n",
    "plt.show()"
   ]
  },
  {
   "cell_type": "code",
   "execution_count": null,
   "metadata": {},
   "outputs": [],
   "source": []
  }
 ],
 "metadata": {
  "kernelspec": {
   "display_name": "Python 2",
   "language": "python",
   "name": "python2"
  },
  "language_info": {
   "codemirror_mode": {
    "name": "ipython",
    "version": 2
   },
   "file_extension": ".py",
   "mimetype": "text/x-python",
   "name": "python",
   "nbconvert_exporter": "python",
   "pygments_lexer": "ipython2",
   "version": "2.7.18"
  }
 },
 "nbformat": 4,
 "nbformat_minor": 2
}
